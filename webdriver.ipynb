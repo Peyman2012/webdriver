{
 "cells": [
  {
   "cell_type": "markdown",
   "id": "d261247f",
   "metadata": {},
   "source": [
    "# Browser automation method\n",
    "Selenium is used for this version of the Instagram bot. It is worth noting that the InstaPy tool uses Selenium at its core. First, you need to install Selenium. During the installation, you need to make sure that the Firefox WebDriver is installed. It is worth noting that Instapay no longer uses the Chrome web browser in its latest version. This in turn means that in order to do this project, one must have the Firefox web browser installed on his system. Now, a python file should be created and the following code should be written in it."
   ]
  },
  {
   "cell_type": "code",
   "execution_count": 2,
   "id": "a70e909b",
   "metadata": {},
   "outputs": [],
   "source": [
    "from time import sleep\n",
    "from selenium import webdriver\n",
    "\n",
    "browser = webdriver.Firefox()\n",
    "\n",
    "browser.get('https://www.google.com/')\n",
    "\n",
    "sleep(5)\n",
    "\n",
    "browser.close()"
   ]
  },
  {
   "cell_type": "markdown",
   "id": "ad5a16ca",
   "metadata": {},
   "source": [
    "# Page Object Pattern\n",
    "By running this script, it will automatically enter the person's Instagram account. Now it's time to start working more seriously with the Instagram bot. Continuing the process of writing this script and completing it is similar to what has been done up to this point. In fact, the bot (script) will continue to scroll through the posts, selecting the ones it is interested in (based on the criteria given to it) after finding the \"Like\" button and after finding the input box. Comment, like or comment for them and so on.All the mentioned activities can be done using InstaPy tool. But before using InstaPy, you should familiarize yourself with the Page Object Pattern to better understand how InstaPy works. In the next part of the tutorial on how to make an Instagram bot with Python, the method of using the Page Object Pattern will be examined."
   ]
  },
  {
   "cell_type": "code",
   "execution_count": 4,
   "id": "99a5fe06",
   "metadata": {},
   "outputs": [
    {
     "ename": "AttributeError",
     "evalue": "'WebDriver' object has no attribute 'find_element_by_xpath'",
     "output_type": "error",
     "traceback": [
      "\u001b[1;31m---------------------------------------------------------------------------\u001b[0m",
      "\u001b[1;31mAttributeError\u001b[0m                            Traceback (most recent call last)",
      "\u001b[1;32m~\\AppData\\Local\\Temp/ipykernel_17624/1723824183.py\u001b[0m in \u001b[0;36m<module>\u001b[1;34m\u001b[0m\n\u001b[0;32m      7\u001b[0m \u001b[0mbrowser\u001b[0m\u001b[1;33m.\u001b[0m\u001b[0mget\u001b[0m\u001b[1;33m(\u001b[0m\u001b[1;34m'https://www.instagram.com/'\u001b[0m\u001b[1;33m)\u001b[0m\u001b[1;33m\u001b[0m\u001b[1;33m\u001b[0m\u001b[0m\n\u001b[0;32m      8\u001b[0m \u001b[1;33m\u001b[0m\u001b[0m\n\u001b[1;32m----> 9\u001b[1;33m \u001b[0mlogin_link\u001b[0m \u001b[1;33m=\u001b[0m \u001b[0mbrowser\u001b[0m\u001b[1;33m.\u001b[0m\u001b[0mfind_element_by_xpath\u001b[0m\u001b[1;33m(\u001b[0m\u001b[1;34m\"//a[text()='Log in']\"\u001b[0m\u001b[1;33m)\u001b[0m\u001b[1;33m\u001b[0m\u001b[1;33m\u001b[0m\u001b[0m\n\u001b[0m\u001b[0;32m     10\u001b[0m \u001b[0mlogin_link\u001b[0m\u001b[1;33m.\u001b[0m\u001b[0mclick\u001b[0m\u001b[1;33m(\u001b[0m\u001b[1;33m)\u001b[0m\u001b[1;33m\u001b[0m\u001b[1;33m\u001b[0m\u001b[0m\n\u001b[0;32m     11\u001b[0m \u001b[1;33m\u001b[0m\u001b[0m\n",
      "\u001b[1;31mAttributeError\u001b[0m: 'WebDriver' object has no attribute 'find_element_by_xpath'"
     ]
    }
   ],
   "source": [
    "from time import sleep\n",
    "from selenium import webdriver\n",
    "\n",
    "browser = webdriver.Firefox()\n",
    "browser.implicitly_wait(5)\n",
    "\n",
    "browser.get('https://www.instagram.com/')\n",
    "\n",
    "login_link = browser.find_element_by_xpath(\"//a[text()='Log in']\")\n",
    "login_link.click()\n",
    "\n",
    "sleep(2)\n",
    "\n",
    "username_input = browser.find_element_by_css_selector(\"input[name='username']\")\n",
    "password_input = browser.find_element_by_css_selector(\"input[name='password']\")\n",
    "\n",
    "username_input.send_keys(\"<your username>\")\n",
    "password_input.send_keys(\"<your password>\")\n",
    "\n",
    "login_button = browser.find_element_by_xpath(\"//button[@type='submit']\")\n",
    "login_button.click()\n",
    "\n",
    "sleep(5)\n",
    "\n",
    "browser.close()"
   ]
  },
  {
   "cell_type": "code",
   "execution_count": null,
   "id": "4d2acbe4",
   "metadata": {},
   "outputs": [],
   "source": []
  }
 ],
 "metadata": {
  "kernelspec": {
   "display_name": "Python 3 (ipykernel)",
   "language": "python",
   "name": "python3"
  },
  "language_info": {
   "codemirror_mode": {
    "name": "ipython",
    "version": 3
   },
   "file_extension": ".py",
   "mimetype": "text/x-python",
   "name": "python",
   "nbconvert_exporter": "python",
   "pygments_lexer": "ipython3",
   "version": "3.9.12"
  }
 },
 "nbformat": 4,
 "nbformat_minor": 5
}
